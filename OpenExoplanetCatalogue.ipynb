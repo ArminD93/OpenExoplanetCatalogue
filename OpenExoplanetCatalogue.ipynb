{
  "nbformat": 4,
  "nbformat_minor": 0,
  "metadata": {
    "colab": {
      "name": "OpenExoplanetCatalogue.ipynb",
      "provenance": [],
      "collapsed_sections": [],
      "mount_file_id": "1VVbwhzwYPsV938ytR1W68Piq7yEhDwpC",
      "authorship_tag": "ABX9TyOXkfA4TqoDq50Rulle8zJ0",
      "include_colab_link": true
    },
    "kernelspec": {
      "name": "python3",
      "display_name": "Python 3"
    }
  },
  "cells": [
    {
      "cell_type": "markdown",
      "metadata": {
        "id": "view-in-github",
        "colab_type": "text"
      },
      "source": [
        "<a href=\"https://colab.research.google.com/github/ArminD93/OpenExoplanetCatalogue/blob/dev/OpenExoplanetCatalogue.ipynb\" target=\"_parent\"><img src=\"https://colab.research.google.com/assets/colab-badge.svg\" alt=\"Open In Colab\"/></a>"
      ]
    },
    {
      "cell_type": "code",
      "metadata": {
        "id": "u6XHtW6i7RHi",
        "colab_type": "code",
        "outputId": "c38fff25-2f07-4d42-a5f9-ba659df5c478",
        "colab": {
          "base_uri": "https://localhost:8080/",
          "height": 261
        }
      },
      "source": [
        "import pandas as pd\n",
        "import numpy as np\n",
        "import matplotlib.pyplot as plt\n",
        "import seaborn as sns\n",
        "sns.set(style=\"ticks\", color_codes=True)\n",
        "\n",
        "planets = pd.read_csv('/content/drive/My Drive/ColabNotebooks/OpenExoplanetCatalogue/datasets/oec.csv', low_memory=False)\n",
        "planets.head()"
      ],
      "execution_count": 1,
      "outputs": [
        {
          "output_type": "execute_result",
          "data": {
            "text/html": [
              "<div>\n",
              "<style scoped>\n",
              "    .dataframe tbody tr th:only-of-type {\n",
              "        vertical-align: middle;\n",
              "    }\n",
              "\n",
              "    .dataframe tbody tr th {\n",
              "        vertical-align: top;\n",
              "    }\n",
              "\n",
              "    .dataframe thead th {\n",
              "        text-align: right;\n",
              "    }\n",
              "</style>\n",
              "<table border=\"1\" class=\"dataframe\">\n",
              "  <thead>\n",
              "    <tr style=\"text-align: right;\">\n",
              "      <th></th>\n",
              "      <th>PlanetIdentifier</th>\n",
              "      <th>TypeFlag</th>\n",
              "      <th>PlanetaryMassJpt</th>\n",
              "      <th>RadiusJpt</th>\n",
              "      <th>PeriodDays</th>\n",
              "      <th>SemiMajorAxisAU</th>\n",
              "      <th>Eccentricity</th>\n",
              "      <th>PeriastronDeg</th>\n",
              "      <th>LongitudeDeg</th>\n",
              "      <th>AscendingNodeDeg</th>\n",
              "      <th>InclinationDeg</th>\n",
              "      <th>SurfaceTempK</th>\n",
              "      <th>AgeGyr</th>\n",
              "      <th>DiscoveryMethod</th>\n",
              "      <th>DiscoveryYear</th>\n",
              "      <th>LastUpdated</th>\n",
              "      <th>RightAscension</th>\n",
              "      <th>Declination</th>\n",
              "      <th>DistFromSunParsec</th>\n",
              "      <th>HostStarMassSlrMass</th>\n",
              "      <th>HostStarRadiusSlrRad</th>\n",
              "      <th>HostStarMetallicity</th>\n",
              "      <th>HostStarTempK</th>\n",
              "      <th>HostStarAgeGyr</th>\n",
              "      <th>ListsPlanetIsOn</th>\n",
              "    </tr>\n",
              "  </thead>\n",
              "  <tbody>\n",
              "    <tr>\n",
              "      <th>0</th>\n",
              "      <td>HD 143761 b</td>\n",
              "      <td>0</td>\n",
              "      <td>1.0450</td>\n",
              "      <td>NaN</td>\n",
              "      <td>39.845800</td>\n",
              "      <td>0.2196</td>\n",
              "      <td>0.037</td>\n",
              "      <td>270.6</td>\n",
              "      <td>NaN</td>\n",
              "      <td>NaN</td>\n",
              "      <td>NaN</td>\n",
              "      <td>NaN</td>\n",
              "      <td>NaN</td>\n",
              "      <td>RV</td>\n",
              "      <td>2016.0</td>\n",
              "      <td>16/07/11</td>\n",
              "      <td>16 01 03</td>\n",
              "      <td>+33 18 13</td>\n",
              "      <td>17.236</td>\n",
              "      <td>0.889</td>\n",
              "      <td>1.362</td>\n",
              "      <td>-0.31</td>\n",
              "      <td>5627.0</td>\n",
              "      <td>NaN</td>\n",
              "      <td>Confirmed planets</td>\n",
              "    </tr>\n",
              "    <tr>\n",
              "      <th>1</th>\n",
              "      <td>HD 143761 c</td>\n",
              "      <td>0</td>\n",
              "      <td>0.0790</td>\n",
              "      <td>NaN</td>\n",
              "      <td>102.540000</td>\n",
              "      <td>0.4123</td>\n",
              "      <td>0.050</td>\n",
              "      <td>190.0</td>\n",
              "      <td>NaN</td>\n",
              "      <td>NaN</td>\n",
              "      <td>NaN</td>\n",
              "      <td>NaN</td>\n",
              "      <td>NaN</td>\n",
              "      <td>RV</td>\n",
              "      <td>2016.0</td>\n",
              "      <td>16/07/11</td>\n",
              "      <td>16 01 03</td>\n",
              "      <td>+33 18 13</td>\n",
              "      <td>17.236</td>\n",
              "      <td>0.889</td>\n",
              "      <td>1.362</td>\n",
              "      <td>-0.31</td>\n",
              "      <td>5627.0</td>\n",
              "      <td>NaN</td>\n",
              "      <td>Confirmed planets</td>\n",
              "    </tr>\n",
              "    <tr>\n",
              "      <th>2</th>\n",
              "      <td>KOI-1843.03</td>\n",
              "      <td>0</td>\n",
              "      <td>0.0014</td>\n",
              "      <td>0.054</td>\n",
              "      <td>0.176891</td>\n",
              "      <td>0.0048</td>\n",
              "      <td>NaN</td>\n",
              "      <td>NaN</td>\n",
              "      <td>NaN</td>\n",
              "      <td>NaN</td>\n",
              "      <td>72.00</td>\n",
              "      <td>NaN</td>\n",
              "      <td>NaN</td>\n",
              "      <td>transit</td>\n",
              "      <td>2012.0</td>\n",
              "      <td>13/07/15</td>\n",
              "      <td>19 00 03.14</td>\n",
              "      <td>+40 13 14.7</td>\n",
              "      <td>NaN</td>\n",
              "      <td>0.460</td>\n",
              "      <td>0.450</td>\n",
              "      <td>0.00</td>\n",
              "      <td>3584.0</td>\n",
              "      <td>NaN</td>\n",
              "      <td>Controversial</td>\n",
              "    </tr>\n",
              "    <tr>\n",
              "      <th>3</th>\n",
              "      <td>KOI-1843.01</td>\n",
              "      <td>0</td>\n",
              "      <td>NaN</td>\n",
              "      <td>0.114</td>\n",
              "      <td>4.194525</td>\n",
              "      <td>0.0390</td>\n",
              "      <td>NaN</td>\n",
              "      <td>NaN</td>\n",
              "      <td>NaN</td>\n",
              "      <td>NaN</td>\n",
              "      <td>89.38</td>\n",
              "      <td>NaN</td>\n",
              "      <td>NaN</td>\n",
              "      <td>transit</td>\n",
              "      <td>NaN</td>\n",
              "      <td>NaN</td>\n",
              "      <td>19 00 03.14</td>\n",
              "      <td>+40 13 14.7</td>\n",
              "      <td>NaN</td>\n",
              "      <td>0.460</td>\n",
              "      <td>0.450</td>\n",
              "      <td>0.00</td>\n",
              "      <td>3584.0</td>\n",
              "      <td>NaN</td>\n",
              "      <td>Controversial</td>\n",
              "    </tr>\n",
              "    <tr>\n",
              "      <th>4</th>\n",
              "      <td>KOI-1843.02</td>\n",
              "      <td>0</td>\n",
              "      <td>NaN</td>\n",
              "      <td>0.071</td>\n",
              "      <td>6.356006</td>\n",
              "      <td>0.0520</td>\n",
              "      <td>NaN</td>\n",
              "      <td>NaN</td>\n",
              "      <td>NaN</td>\n",
              "      <td>NaN</td>\n",
              "      <td>88.24</td>\n",
              "      <td>NaN</td>\n",
              "      <td>NaN</td>\n",
              "      <td>transit</td>\n",
              "      <td>NaN</td>\n",
              "      <td>NaN</td>\n",
              "      <td>19 00 03.14</td>\n",
              "      <td>+40 13 14.7</td>\n",
              "      <td>NaN</td>\n",
              "      <td>0.460</td>\n",
              "      <td>0.450</td>\n",
              "      <td>0.00</td>\n",
              "      <td>3584.0</td>\n",
              "      <td>NaN</td>\n",
              "      <td>Controversial</td>\n",
              "    </tr>\n",
              "  </tbody>\n",
              "</table>\n",
              "</div>"
            ],
            "text/plain": [
              "  PlanetIdentifier  TypeFlag  ...  HostStarAgeGyr    ListsPlanetIsOn\n",
              "0      HD 143761 b         0  ...             NaN  Confirmed planets\n",
              "1      HD 143761 c         0  ...             NaN  Confirmed planets\n",
              "2      KOI-1843.03         0  ...             NaN      Controversial\n",
              "3      KOI-1843.01         0  ...             NaN      Controversial\n",
              "4      KOI-1843.02         0  ...             NaN      Controversial\n",
              "\n",
              "[5 rows x 25 columns]"
            ]
          },
          "metadata": {
            "tags": []
          },
          "execution_count": 1
        }
      ]
    },
    {
      "cell_type": "code",
      "metadata": {
        "id": "OfhVJ5r68YWz",
        "colab_type": "code",
        "outputId": "64e4a88a-cc82-4880-dbe0-fb4e36695d1d",
        "colab": {
          "base_uri": "https://localhost:8080/",
          "height": 34
        }
      },
      "source": [
        "planets.shape"
      ],
      "execution_count": 2,
      "outputs": [
        {
          "output_type": "execute_result",
          "data": {
            "text/plain": [
              "(3584, 25)"
            ]
          },
          "metadata": {
            "tags": []
          },
          "execution_count": 2
        }
      ]
    },
    {
      "cell_type": "code",
      "metadata": {
        "id": "0SBZReJp8hG5",
        "colab_type": "code",
        "outputId": "1ba2ebb3-2ee6-48b3-dbd8-26fb03d2cb59",
        "colab": {
          "base_uri": "https://localhost:8080/",
          "height": 538
        }
      },
      "source": [
        "planets.info(memory_usage='deep')"
      ],
      "execution_count": 3,
      "outputs": [
        {
          "output_type": "stream",
          "text": [
            "<class 'pandas.core.frame.DataFrame'>\n",
            "RangeIndex: 3584 entries, 0 to 3583\n",
            "Data columns (total 25 columns):\n",
            "PlanetIdentifier        3584 non-null object\n",
            "TypeFlag                3584 non-null int64\n",
            "PlanetaryMassJpt        1313 non-null float64\n",
            "RadiusJpt               2774 non-null float64\n",
            "PeriodDays              3485 non-null float64\n",
            "SemiMajorAxisAU         1406 non-null float64\n",
            "Eccentricity            1108 non-null float64\n",
            "PeriastronDeg           328 non-null float64\n",
            "LongitudeDeg            43 non-null float64\n",
            "AscendingNodeDeg        46 non-null float64\n",
            "InclinationDeg          665 non-null float64\n",
            "SurfaceTempK            741 non-null float64\n",
            "AgeGyr                  2 non-null float64\n",
            "DiscoveryMethod         3521 non-null object\n",
            "DiscoveryYear           3574 non-null float64\n",
            "LastUpdated             3576 non-null object\n",
            "RightAscension          3574 non-null object\n",
            "Declination             3574 non-null object\n",
            "DistFromSunParsec       2133 non-null float64\n",
            "HostStarMassSlrMass     3416 non-null float64\n",
            "HostStarRadiusSlrRad    3263 non-null float64\n",
            "HostStarMetallicity     2509 non-null float64\n",
            "HostStarTempK           3455 non-null float64\n",
            "HostStarAgeGyr          517 non-null float64\n",
            "ListsPlanetIsOn         3584 non-null object\n",
            "dtypes: float64(18), int64(1), object(6)\n",
            "memory usage: 1.9 MB\n"
          ],
          "name": "stdout"
        }
      ]
    },
    {
      "cell_type": "code",
      "metadata": {
        "id": "g9Cdg1R4zpRv",
        "colab_type": "code",
        "colab": {
          "base_uri": "https://localhost:8080/",
          "height": 1000
        },
        "outputId": "9c2e7398-5de0-44c3-970d-3fcd92ce8fe9"
      },
      "source": [
        "print('{} '.format(planets['DiscoveryMethod'].value_counts()))\n",
        "print('-'*100)\n",
        "print('{} '.format(planets['LastUpdated'].value_counts()))\n",
        "print('-'*100)\n",
        "print('{} '.format(planets['RightAscension'].value_counts()))\n",
        "print('-'*100)\n",
        "print('{} '.format(planets['Declination'].value_counts()))\n",
        "print('-'*100)\n",
        "print('{} '.format(planets['ListsPlanetIsOn'].value_counts()))"
      ],
      "execution_count": 42,
      "outputs": [
        {
          "output_type": "stream",
          "text": [
            "transit         2712\n",
            "RV               692\n",
            "imaging           52\n",
            "microlensing      40\n",
            "timing            25\n",
            "Name: DiscoveryMethod, dtype: int64 \n",
            "----------------------------------------------------------------------------------------------------\n",
            "16/05/10    1283\n",
            "14/02/26     726\n",
            "11/09/12      38\n",
            "14/02/24      34\n",
            "15/12/03      25\n",
            "            ... \n",
            "11/07/06       1\n",
            "14/03/18       1\n",
            "11/10/28       1\n",
            "16/06/02       1\n",
            "10/12/10       1\n",
            "Name: LastUpdated, Length: 505, dtype: int64 \n",
            "----------------------------------------------------------------------------------------------------\n",
            "01 37 54          9\n",
            "19 16 18          7\n",
            "19 19 26          7\n",
            "23 06 30.34       7\n",
            "17 18 57          7\n",
            "                 ..\n",
            "19 16 44          1\n",
            "05 07 55.76384    1\n",
            "19 06 31          1\n",
            "19 26 58          1\n",
            "18 17 29          1\n",
            "Name: RightAscension, Length: 2358, dtype: int64 \n",
            "----------------------------------------------------------------------------------------------------\n",
            "-60 30 42       9\n",
            "-34 59 23       8\n",
            "+38 20 37       7\n",
            "+49 18 19       7\n",
            "-05 02 36.44    7\n",
            "               ..\n",
            "+46 43 47       1\n",
            "+47 28 09       1\n",
            "+48 57 19       1\n",
            "+18 38 45       1\n",
            "+38 34 22       1\n",
            "Name: Declination, Length: 2592, dtype: int64 \n",
            "----------------------------------------------------------------------------------------------------\n",
            "Confirmed planets                                                                     3295\n",
            "Confirmed planets, Planets in binary systems, S-type                                   135\n",
            "Controversial                                                                           72\n",
            "Confirmed planets, Planets in binary systems, P-type                                    21\n",
            "Controversial, Planets in binary systems, S-type                                        20\n",
            "Confirmed planets, Planets in open clusters                                             13\n",
            "Solar System                                                                             9\n",
            "Controversial, Planets in binary systems, P-type                                         7\n",
            "Kepler Objects of Interest                                                               4\n",
            "Retracted planet candidate                                                               4\n",
            "Confirmed planets, Orphan planets                                                        2\n",
            "Planets in binary systems, S-type, Confirmed planets                                     1\n",
            "Confirmed planets, Planets in binary systems, P-type, Planets in globular clusters       1\n",
            "Name: ListsPlanetIsOn, dtype: int64 \n"
          ],
          "name": "stdout"
        }
      ]
    },
    {
      "cell_type": "code",
      "metadata": {
        "id": "pMeIAFhW2qNB",
        "colab_type": "code",
        "colab": {
          "base_uri": "https://localhost:8080/",
          "height": 538
        },
        "outputId": "d01f1d67-5600-4d23-f7a2-97fe147890cf"
      },
      "source": [
        "planets['DiscoveryMethod'] = planets['DiscoveryMethod'].astype('category')\n",
        "planets['LastUpdated'] = planets['LastUpdated'].astype('category')\n",
        "planets['DiscoveryMethod'] = planets['DiscoveryMethod'].astype('category')\n",
        "planets['RightAscension'] = planets['RightAscension'].astype('category')\n",
        "planets['Declination'] = planets['Declination'].astype('category')\n",
        "planets['ListsPlanetIsOn'] = planets['ListsPlanetIsOn'].astype('category')\n",
        "\n",
        "planets.info(memory_usage='deep')"
      ],
      "execution_count": 43,
      "outputs": [
        {
          "output_type": "stream",
          "text": [
            "<class 'pandas.core.frame.DataFrame'>\n",
            "RangeIndex: 3584 entries, 0 to 3583\n",
            "Data columns (total 25 columns):\n",
            "PlanetIdentifier        3584 non-null object\n",
            "TypeFlag                3584 non-null int64\n",
            "PlanetaryMassJpt        1313 non-null float64\n",
            "RadiusJpt               2774 non-null float64\n",
            "PeriodDays              3485 non-null float64\n",
            "SemiMajorAxisAU         1406 non-null float64\n",
            "Eccentricity            1108 non-null float64\n",
            "PeriastronDeg           328 non-null float64\n",
            "LongitudeDeg            43 non-null float64\n",
            "AscendingNodeDeg        46 non-null float64\n",
            "InclinationDeg          665 non-null float64\n",
            "SurfaceTempK            741 non-null float64\n",
            "AgeGyr                  2 non-null float64\n",
            "DiscoveryMethod         3521 non-null category\n",
            "DiscoveryYear           3574 non-null float64\n",
            "LastUpdated             3576 non-null category\n",
            "RightAscension          3574 non-null category\n",
            "Declination             3574 non-null category\n",
            "DistFromSunParsec       2133 non-null float64\n",
            "HostStarMassSlrMass     3416 non-null float64\n",
            "HostStarRadiusSlrRad    3263 non-null float64\n",
            "HostStarMetallicity     2509 non-null float64\n",
            "HostStarTempK           3455 non-null float64\n",
            "HostStarAgeGyr          517 non-null float64\n",
            "ListsPlanetIsOn         3584 non-null category\n",
            "dtypes: category(5), float64(18), int64(1), object(1)\n",
            "memory usage: 1.3 MB\n"
          ],
          "name": "stdout"
        }
      ]
    },
    {
      "cell_type": "code",
      "metadata": {
        "id": "kqIKfVym5UBM",
        "colab_type": "code",
        "colab": {}
      },
      "source": [
        ""
      ],
      "execution_count": 0,
      "outputs": []
    }
  ]
}